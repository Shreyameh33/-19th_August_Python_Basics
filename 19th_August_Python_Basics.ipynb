{
 "cells": [
  {
   "cell_type": "code",
   "execution_count": null,
   "id": "6355fbcf-e789-4df8-b366-b1826a4822a5",
   "metadata": {},
   "outputs": [],
   "source": [
    "TOPIC: Python Basics Variable"
   ]
  },
  {
   "cell_type": "code",
   "execution_count": 26,
   "id": "fcda391e-f659-4119-9f3d-468b6c9254bb",
   "metadata": {},
   "outputs": [],
   "source": [
    "x = 200"
   ]
  },
  {
   "cell_type": "code",
   "execution_count": 27,
   "id": "8efa7e9c-d149-4ea6-8b09-bf73122c5c95",
   "metadata": {},
   "outputs": [],
   "source": [
    "y = 300"
   ]
  },
  {
   "cell_type": "code",
   "execution_count": 28,
   "id": "21f1da78-697b-4ad0-a719-270130c41cf6",
   "metadata": {},
   "outputs": [],
   "source": [
    "# Code to swap 'x' and 'y'\n",
    "# x now becomes 500\n",
    "x = x + y\n"
   ]
  },
  {
   "cell_type": "code",
   "execution_count": 29,
   "id": "3c700083-b558-4ab9-92e8-361c7e1991c7",
   "metadata": {},
   "outputs": [],
   "source": [
    "# y becomes 200\n",
    "y = x - y\n"
   ]
  },
  {
   "cell_type": "code",
   "execution_count": 30,
   "id": "58064261-df67-4d9c-aa27-7388947c2f82",
   "metadata": {},
   "outputs": [
    {
     "name": "stdout",
     "output_type": "stream",
     "text": [
      "After Swapping: x = 300  y = 200\n"
     ]
    }
   ],
   "source": [
    "# x becomes 100\n",
    "x = x - y\n",
    "print(\"After Swapping: x =\", x, \" y =\", y)"
   ]
  },
  {
   "cell_type": "code",
   "execution_count": 7,
   "id": "a9fb153a-84f2-4977-be53-9592aa5a27f8",
   "metadata": {},
   "outputs": [],
   "source": [
    "width=5"
   ]
  },
  {
   "cell_type": "code",
   "execution_count": 8,
   "id": "7c72194a-1a03-4321-a0ea-218762a168ba",
   "metadata": {},
   "outputs": [],
   "source": [
    "height=10  "
   ]
  },
  {
   "cell_type": "code",
   "execution_count": 9,
   "id": "59a38b80-b5ca-4f32-8c09-9f261a83b637",
   "metadata": {},
   "outputs": [],
   "source": [
    "area=width*height  "
   ]
  },
  {
   "cell_type": "code",
   "execution_count": 10,
   "id": "785ddeda-e4d8-43c2-b000-0baa6c70e741",
   "metadata": {},
   "outputs": [
    {
     "name": "stdout",
     "output_type": "stream",
     "text": [
      "Area of rectangle=50\n"
     ]
    }
   ],
   "source": [
    "print(\"Area of rectangle=\"+str(area))  "
   ]
  },
  {
   "cell_type": "code",
   "execution_count": 35,
   "id": "fb4b59cd-38e6-47a5-aaa1-098179e93342",
   "metadata": {},
   "outputs": [],
   "source": [
    "# Temperature in celsius degree\n",
    "celsius = 50"
   ]
  },
  {
   "cell_type": "code",
   "execution_count": 36,
   "id": "93d8c992-544d-4099-b513-c2b06eb6b710",
   "metadata": {},
   "outputs": [],
   "source": [
    "# Converting the temperature to fehrenheit using the formula\n",
    "fahrenheit = (celsius * 1.8) + 32\n"
   ]
  },
  {
   "cell_type": "code",
   "execution_count": 37,
   "id": "3781b760-ee04-45c8-aa55-44637dc5794a",
   "metadata": {},
   "outputs": [
    {
     "name": "stdout",
     "output_type": "stream",
     "text": [
      "50.00 Celsius is equivalent to: 122.00 Fahrenheit\n"
     ]
    }
   ],
   "source": [
    "# printing the result\n",
    "print('%.2f Celsius is equivalent to: %.2f Fahrenheit'\n",
    "\t% (celsius, fahrenheit))\n"
   ]
  },
  {
   "cell_type": "code",
   "execution_count": null,
   "id": "746be61a-cae8-4cfa-a01a-e662893e326a",
   "metadata": {},
   "outputs": [],
   "source": [
    "TOPIC: String Based Questions"
   ]
  },
  {
   "cell_type": "code",
   "execution_count": 41,
   "id": "5e68a699-199d-4cc6-849f-5ed353ba234d",
   "metadata": {},
   "outputs": [],
   "source": [
    "# Python code to demonstrate string length \n",
    "# using Using the built-in function len\n",
    "shr = \"geeks\"\n"
   ]
  },
  {
   "cell_type": "code",
   "execution_count": 42,
   "id": "533eb003-3c6c-4245-8522-3a607fefa014",
   "metadata": {},
   "outputs": [
    {
     "name": "stdout",
     "output_type": "stream",
     "text": [
      "5\n"
     ]
    }
   ],
   "source": [
    "print(len(shr))\n"
   ]
  },
  {
   "cell_type": "code",
   "execution_count": 43,
   "id": "dd89c675-949f-41aa-a73f-d9c84277d224",
   "metadata": {},
   "outputs": [],
   "source": [
    "string = \"I am doing my first assignment today!\"\n",
    "vowels = \"aeiouAEIOU\"\n"
   ]
  },
  {
   "cell_type": "code",
   "execution_count": 44,
   "id": "fff826d1-6e32-4149-8603-9720cc0f3a19",
   "metadata": {},
   "outputs": [
    {
     "name": "stdout",
     "output_type": "stream",
     "text": [
      "10\n"
     ]
    }
   ],
   "source": [
    "count = sum(string.count(vowel) for vowel in vowels)\n",
    "print(count)\n"
   ]
  },
  {
   "cell_type": "code",
   "execution_count": 51,
   "id": "5409efc2-49ba-4c57-970e-ac0ed0c94acb",
   "metadata": {},
   "outputs": [],
   "source": [
    "def reverse(s):\n",
    "\tstr = \"\"\n",
    "\tfor i in s:\n",
    "\t\tstr = i + str\n",
    "\treturn str\n"
   ]
  },
  {
   "cell_type": "code",
   "execution_count": 52,
   "id": "efd09d57-25f6-482e-ba04-1ed295db6965",
   "metadata": {},
   "outputs": [],
   "source": [
    "s = \"My Name is Shreya\"\n"
   ]
  },
  {
   "cell_type": "code",
   "execution_count": 53,
   "id": "a62ae68d-8e81-4778-b920-1741a59f057e",
   "metadata": {},
   "outputs": [
    {
     "name": "stdout",
     "output_type": "stream",
     "text": [
      "The original string is : My Name is Shreya\n"
     ]
    }
   ],
   "source": [
    "print(\"The original string is : \", end=\"\")\n",
    "print(s)\n"
   ]
  },
  {
   "cell_type": "code",
   "execution_count": 54,
   "id": "1d7c955d-39e5-4b9d-ba7e-2d85aafeb05e",
   "metadata": {},
   "outputs": [
    {
     "name": "stdout",
     "output_type": "stream",
     "text": [
      "The reversed string is : ayerhS si emaN yM\n"
     ]
    }
   ],
   "source": [
    "print(\"The reversed string is : \", end=\"\")\n",
    "print(reverse(s))\n"
   ]
  },
  {
   "cell_type": "code",
   "execution_count": 66,
   "id": "bc365ed4-7f92-44e4-a062-fbb6bd529204",
   "metadata": {},
   "outputs": [],
   "source": [
    "# function to check string is\n",
    "# palindrome or not\n",
    "def isPalindrome(s):\n",
    "\treturn s == s[::-1]\n",
    "\n",
    "\t"
   ]
  },
  {
   "cell_type": "code",
   "execution_count": 67,
   "id": "75ab06fe-cdbc-44cf-969f-8e1c4a26a256",
   "metadata": {},
   "outputs": [],
   "source": [
    "s = \"malayalam\"\n",
    "ans = isPalindrome(s)\n",
    "\n"
   ]
  },
  {
   "cell_type": "code",
   "execution_count": 68,
   "id": "96f6bd75-752c-478f-9850-5723d717ff93",
   "metadata": {},
   "outputs": [
    {
     "name": "stdout",
     "output_type": "stream",
     "text": [
      "Yes\n"
     ]
    }
   ],
   "source": [
    "if ans:\n",
    "\tprint(\"Yes\")\n"
   ]
  },
  {
   "cell_type": "code",
   "execution_count": 75,
   "id": "a8d025b3-bc6f-4b69-987b-4d4cf3bb066c",
   "metadata": {},
   "outputs": [],
   "source": [
    "# Python program to Remove spaces from a given string\n",
    "# Function to remove all spaces from a given string\n",
    "def removeSpaces(string):\n",
    "\tstring = string.replace(' ','')\n",
    "\treturn string\n"
   ]
  },
  {
   "cell_type": "code",
   "execution_count": 76,
   "id": "d5f4b4cb-fe19-44ee-8881-6b1e49066f79",
   "metadata": {},
   "outputs": [
    {
     "name": "stdout",
     "output_type": "stream",
     "text": [
      "shreyamehraismyname\n"
     ]
    }
   ],
   "source": [
    "string = \"s hreya  mehra  is my   na me \"\n",
    "print(removeSpaces(string))\n",
    "\n"
   ]
  },
  {
   "cell_type": "code",
   "execution_count": null,
   "id": "50b239a8-9497-4889-aa79-c28debc234cd",
   "metadata": {},
   "outputs": [],
   "source": []
  }
 ],
 "metadata": {
  "kernelspec": {
   "display_name": "Python 3 (ipykernel)",
   "language": "python",
   "name": "python3"
  },
  "language_info": {
   "codemirror_mode": {
    "name": "ipython",
    "version": 3
   },
   "file_extension": ".py",
   "mimetype": "text/x-python",
   "name": "python",
   "nbconvert_exporter": "python",
   "pygments_lexer": "ipython3",
   "version": "3.10.8"
  }
 },
 "nbformat": 4,
 "nbformat_minor": 5
}
